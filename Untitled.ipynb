{
 "cells": [
  {
   "cell_type": "code",
   "execution_count": 1,
   "id": "4397ea62",
   "metadata": {},
   "outputs": [
    {
     "name": "stdout",
     "output_type": "stream",
     "text": [
      "Text after removing stop words:\n",
      "\"Natural language processing (NLP) field artificial intelligence focuses interaction computers humans language. ultimate goal NLP enable computers understand, interpret, generate human languages way valuable meaningful. NLP combines computational linguistics machine learning deep learning models process analyze large amounts natural language data.\"\n"
     ]
    },
    {
     "name": "stderr",
     "output_type": "stream",
     "text": [
      "[nltk_data] Downloading package stopwords to\n",
      "[nltk_data]     C:\\Users\\mahal\\AppData\\Roaming\\nltk_data...\n",
      "[nltk_data]   Package stopwords is already up-to-date!\n"
     ]
    }
   ],
   "source": [
    "# Q.1).Write a python program to remove stop words for a given passage from a text file using NLTK?. [ 10Marks ]\n",
    "\n",
    "from nltk.corpus import stopwords\n",
    "import nltk\n",
    "\n",
    "# Download the stop words if not already done\n",
    "nltk.download('stopwords')\n",
    "\n",
    "def remove_stopwords(text):\n",
    "    stop_words = set(stopwords.words('english'))\n",
    "    words = text.split()\n",
    "    filtered_words = [word for word in words if word.lower() not in stop_words]\n",
    "    return ' '.join(filtered_words)\n",
    "\n",
    "# Read text from file and remove stop words\n",
    "with open('passage.txt', 'r') as file:  # Replace 'your_text_file.txt' with your file path\n",
    "    text = file.read()\n",
    "\n",
    "cleaned_text = remove_stopwords(text)\n",
    "print(\"Text after removing stop words:\")\n",
    "print(cleaned_text)\n"
   ]
  },
  {
   "cell_type": "code",
   "execution_count": null,
   "id": "6ac8b3f7",
   "metadata": {},
   "outputs": [],
   "source": []
  },
  {
   "cell_type": "code",
   "execution_count": 2,
   "id": "9b19a210",
   "metadata": {},
   "outputs": [
    {
     "name": "stdout",
     "output_type": "stream",
     "text": [
      "Optimal Value: 6\n"
     ]
    }
   ],
   "source": [
    "# Write a Program to Implement Alpha-Beta Pruning using Python [ 10 M\n",
    "\n",
    "# Alpha-Beta Pruning implementation\n",
    "\n",
    "def alpha_beta(node, depth, alpha, beta, maximizing):\n",
    "    if depth == 0 or isinstance(node, int):\n",
    "        return node\n",
    "    \n",
    "    if maximizing:\n",
    "        max_eval = float('-inf')\n",
    "        for child in node:\n",
    "            eval = alpha_beta(child, depth - 1, alpha, beta, False)\n",
    "            max_eval = max(max_eval, eval)\n",
    "            alpha = max(alpha, eval)\n",
    "            if beta <= alpha:\n",
    "                break  # Beta cut-off\n",
    "        return max_eval\n",
    "    else:\n",
    "        min_eval = float('inf')\n",
    "        for child in node:\n",
    "            eval = alpha_beta(child, depth - 1, alpha, beta, True)\n",
    "            min_eval = min(min_eval, eval)\n",
    "            beta = min(beta, eval)\n",
    "            if beta <= alpha:\n",
    "                break  # Alpha cut-off\n",
    "        return min_eval\n",
    "\n",
    "# Example simple tree\n",
    "tree = [[3, 5], [6, 9], [1, 2], [0, -1]]\n",
    "\n",
    "# Run alpha-beta pruning\n",
    "result = alpha_beta(tree, depth=2, alpha=float('-inf'), beta=float('inf'), maximizing=True)\n",
    "print(\"Optimal Value:\", result)\n"
   ]
  },
  {
   "cell_type": "code",
   "execution_count": null,
   "id": "96f8447a",
   "metadata": {},
   "outputs": [],
   "source": []
  }
 ],
 "metadata": {
  "kernelspec": {
   "display_name": "Python 3 (ipykernel)",
   "language": "python",
   "name": "python3"
  },
  "language_info": {
   "codemirror_mode": {
    "name": "ipython",
    "version": 3
   },
   "file_extension": ".py",
   "mimetype": "text/x-python",
   "name": "python",
   "nbconvert_exporter": "python",
   "pygments_lexer": "ipython3",
   "version": "3.9.12"
  }
 },
 "nbformat": 4,
 "nbformat_minor": 5
}
